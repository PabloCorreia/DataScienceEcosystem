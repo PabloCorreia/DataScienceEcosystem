{
 "cells": [
  {
   "cell_type": "markdown",
   "id": "93420297",
   "metadata": {},
   "source": [
    "# Data Science Tools and Ecosystem"
   ]
  },
  {
   "cell_type": "markdown",
   "id": "992f4e5b",
   "metadata": {},
   "source": [
    "In this notebook, Data Science Tools and Ecosystem are summarized."
   ]
  },
  {
   "cell_type": "markdown",
   "id": "15e3d0b5",
   "metadata": {},
   "source": [
    "Some of the popular languages that Data Scientists use are:\n",
    "\n",
    "1. Python\n",
    "2. R\n",
    "3. SQL\n",
    "4. Scala\n",
    "5. Java\n",
    "6. C++"
   ]
  },
  {
   "cell_type": "markdown",
   "id": "2e35ca95",
   "metadata": {},
   "source": [
    "Some of the commonly used libraries used by Data Scientists include:\n",
    "\n",
    "1. Pandas\n",
    "2. Numpy\n",
    "3. Matplotlib\n",
    "4. Seaborn\n",
    "5. Scikit-learn\n"
   ]
  },
  {
   "cell_type": "markdown",
   "id": "d0a80174",
   "metadata": {},
   "source": [
    "| Data Science Tools |\n",
    "|-------------------|\n",
    "| Jupyter Notebook  |\n",
    "| Google Colaboratory |\n",
    "| VS Code           |\n"
   ]
  },
  {
   "cell_type": "markdown",
   "id": "cda35458",
   "metadata": {},
   "source": [
    "### Below are a few examples of evaluating arithmetic expressions in Python\n",
    "\n",
    "Basic arithmetic can be performed in Python using operators like addition `+`, subtraction `-`, multiplication `*`, and division `/`. Here are some simple examples:\n",
    "\n",
    "```python\n",
    "# Addition\n",
    "addition_result = 5 + 3\n",
    "print(\"5 + 3 =\", addition_result)\n",
    "\n",
    "# Subtraction\n",
    "subtraction_result = 10 - 7\n",
    "print(\"10 - 7 =\", subtraction_result)\n",
    "\n",
    "# Multiplication\n",
    "multiplication_result = 4 * 6\n",
    "print(\"4 * 6 =\", multiplication_result)\n",
    "\n",
    "# Division\n",
    "division_result = 15 / 3\n",
    "print(\"15 / 3 =\", division_result)\n"
   ]
  },
  {
   "cell_type": "code",
   "execution_count": 2,
   "id": "72fdf2d5",
   "metadata": {},
   "outputs": [
    {
     "name": "stdout",
     "output_type": "stream",
     "text": [
      "17\n"
     ]
    }
   ],
   "source": [
    "# This is a simple arithmetic expression \n",
    "# to multiply then add integers\n",
    "result = (3 * 4) + 5\n",
    "print(result)\n"
   ]
  },
  {
   "cell_type": "code",
   "execution_count": 3,
   "id": "12462b28",
   "metadata": {},
   "outputs": [
    {
     "name": "stdout",
     "output_type": "stream",
     "text": [
      "3.3333333333333335\n"
     ]
    }
   ],
   "source": [
    "# This will convert 200 minutes to hours \n",
    "# by dividing by 60\n",
    "result = 200 / 60\n",
    "print(result)\n"
   ]
  },
  {
   "cell_type": "markdown",
   "id": "a06b5957",
   "metadata": {},
   "source": [
    "**Objectives:**\n",
    "\n",
    "- List popular languages for Data Science\n",
    "- Introduce basic arithmetic operations in Python\n",
    "- Convert minutes to hours in Python\n"
   ]
  },
  {
   "cell_type": "markdown",
   "id": "218e704f",
   "metadata": {},
   "source": [
    "## Author\n",
    "\n",
    "Pablo Correia\n"
   ]
  },
  {
   "cell_type": "code",
   "execution_count": null,
   "id": "2d04b840",
   "metadata": {},
   "outputs": [],
   "source": []
  }
 ],
 "metadata": {
  "kernelspec": {
   "display_name": "Python 3 (ipykernel)",
   "language": "python",
   "name": "python3"
  },
  "language_info": {
   "codemirror_mode": {
    "name": "ipython",
    "version": 3
   },
   "file_extension": ".py",
   "mimetype": "text/x-python",
   "name": "python",
   "nbconvert_exporter": "python",
   "pygments_lexer": "ipython3",
   "version": "3.9.13"
  }
 },
 "nbformat": 4,
 "nbformat_minor": 5
}
